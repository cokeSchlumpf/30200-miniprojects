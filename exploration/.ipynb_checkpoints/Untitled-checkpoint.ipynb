{
 "cells": [
  {
   "cell_type": "markdown",
   "metadata": {},
   "source": [
    "# 30200 - Mini-Projekte"
   ]
  },
  {
   "cell_type": "code",
   "execution_count": 5,
   "metadata": {},
   "outputs": [],
   "source": [
    "import pandas as pd\n",
    "import numpy as np\n",
    "import scipy\n",
    "import seaborn as sns\n",
    "import matplotlib.pyplot as plt\n",
    "\n",
    "from sklearn.pipeline import Pipeline\n",
    "from sklearn.preprocessing import StandardScaler, MaxAbsScaler\n",
    "from sklearn.model_selection import train_test_split, RandomizedSearchCV\n",
    "\n",
    "from sklearn.svm import SVC\n",
    "from sklearn.tree import DecisionTreeClassifier\n",
    "from sklearn.ensemble import RandomForestClassifier\n",
    "from sklearn.neural_network import MLPClassifier\n",
    "\n",
    "from keras.models import Sequential\n",
    "from keras.layers import Dense\n",
    "from keras.utils import to_categorical\n",
    "\n",
    "%matplotlib inline"
   ]
  },
  {
   "cell_type": "code",
   "execution_count": 6,
   "metadata": {},
   "outputs": [],
   "source": [
    "# Some common functions\n",
    "from keras import backend as K\n",
    "\n",
    "def calculate_metrics(model, X_test, y_test):\n",
    "    import numpy as np\n",
    "    from sklearn import metrics\n",
    "\n",
    "    predicted = np.rint(model.predict(X_test))\n",
    "\n",
    "    metrics = {\n",
    "        \"Accuracy\": metrics.accuracy_score(y_test, predicted),\n",
    "        \"Precession\": metrics.precision_score(y_test, predicted),\n",
    "        \"Recall\": metrics.recall_score(y_test, predicted),\n",
    "        \"F1-Score\": metrics.f1_score(y_test, predicted)\n",
    "    }\n",
    "\n",
    "    return metrics\n",
    "\n",
    "def f1(y_true, y_pred):\n",
    "    def recall(y_true, y_pred):\n",
    "        \"\"\"Recall metric.\n",
    "\n",
    "        Only computes a batch-wise average of recall.\n",
    "\n",
    "        Computes the recall, a metric for multi-label classification of\n",
    "        how many relevant items are selected.\n",
    "        \"\"\"\n",
    "        true_positives = K.sum(K.round(K.clip(y_true * y_pred, 0, 1)))\n",
    "        possible_positives = K.sum(K.round(K.clip(y_true, 0, 1)))\n",
    "        recall = true_positives / (possible_positives + K.epsilon())\n",
    "        return recall\n",
    "\n",
    "    def precision(y_true, y_pred):\n",
    "        \"\"\"Precision metric.\n",
    "\n",
    "        Only computes a batch-wise average of precision.\n",
    "\n",
    "        Computes the precision, a metric for multi-label classification of\n",
    "        how many selected items are relevant.\n",
    "        \"\"\"\n",
    "        true_positives = K.sum(K.round(K.clip(y_true * y_pred, 0, 1)))\n",
    "        predicted_positives = K.sum(K.round(K.clip(y_pred, 0, 1)))\n",
    "        precision = true_positives / (predicted_positives + K.epsilon())\n",
    "        return precision\n",
    "    precision = precision(y_true, y_pred)\n",
    "    recall = recall(y_true, y_pred)\n",
    "    return 2*((precision*recall)/(precision+recall+K.epsilon()))"
   ]
  },
  {
   "cell_type": "markdown",
   "metadata": {},
   "source": [
    "## Erkennen von Rissen auf Betonwänden (Competition 1)"
   ]
  },
  {
   "cell_type": "code",
   "execution_count": 7,
   "metadata": {},
   "outputs": [],
   "source": [
    "df_train = pd.read_csv('../data/comp1/data_risse.csv', sep=';', header=None)"
   ]
  },
  {
   "cell_type": "code",
   "execution_count": 8,
   "metadata": {},
   "outputs": [
    {
     "data": {
      "text/html": [
       "<div>\n",
       "<style scoped>\n",
       "    .dataframe tbody tr th:only-of-type {\n",
       "        vertical-align: middle;\n",
       "    }\n",
       "\n",
       "    .dataframe tbody tr th {\n",
       "        vertical-align: top;\n",
       "    }\n",
       "\n",
       "    .dataframe thead th {\n",
       "        text-align: right;\n",
       "    }\n",
       "</style>\n",
       "<table border=\"1\" class=\"dataframe\">\n",
       "  <thead>\n",
       "    <tr style=\"text-align: right;\">\n",
       "      <th></th>\n",
       "      <th>0</th>\n",
       "      <th>1</th>\n",
       "      <th>2</th>\n",
       "      <th>3</th>\n",
       "      <th>4</th>\n",
       "      <th>5</th>\n",
       "      <th>6</th>\n",
       "      <th>7</th>\n",
       "      <th>8</th>\n",
       "      <th>9</th>\n",
       "      <th>...</th>\n",
       "      <th>503</th>\n",
       "      <th>504</th>\n",
       "      <th>505</th>\n",
       "      <th>506</th>\n",
       "      <th>507</th>\n",
       "      <th>508</th>\n",
       "      <th>509</th>\n",
       "      <th>510</th>\n",
       "      <th>511</th>\n",
       "      <th>512</th>\n",
       "    </tr>\n",
       "  </thead>\n",
       "  <tbody>\n",
       "    <tr>\n",
       "      <th>0</th>\n",
       "      <td>0.0</td>\n",
       "      <td>3285.80396</td>\n",
       "      <td>1510.82166</td>\n",
       "      <td>2731.94043</td>\n",
       "      <td>0.0</td>\n",
       "      <td>3424.64282</td>\n",
       "      <td>4330.51367</td>\n",
       "      <td>3367.21899</td>\n",
       "      <td>0.0</td>\n",
       "      <td>0.0</td>\n",
       "      <td>...</td>\n",
       "      <td>2432.82520</td>\n",
       "      <td>0.0</td>\n",
       "      <td>0.0</td>\n",
       "      <td>0.0</td>\n",
       "      <td>0.0</td>\n",
       "      <td>2994.42871</td>\n",
       "      <td>0.0</td>\n",
       "      <td>3900.63892</td>\n",
       "      <td>3414.04224</td>\n",
       "      <td>0.0</td>\n",
       "    </tr>\n",
       "    <tr>\n",
       "      <th>1</th>\n",
       "      <td>1.0</td>\n",
       "      <td>3043.73804</td>\n",
       "      <td>1565.28137</td>\n",
       "      <td>2659.80981</td>\n",
       "      <td>0.0</td>\n",
       "      <td>3219.83789</td>\n",
       "      <td>4012.70532</td>\n",
       "      <td>3161.57178</td>\n",
       "      <td>0.0</td>\n",
       "      <td>0.0</td>\n",
       "      <td>...</td>\n",
       "      <td>2124.04150</td>\n",
       "      <td>0.0</td>\n",
       "      <td>0.0</td>\n",
       "      <td>0.0</td>\n",
       "      <td>0.0</td>\n",
       "      <td>2892.67065</td>\n",
       "      <td>0.0</td>\n",
       "      <td>3768.45215</td>\n",
       "      <td>3265.97778</td>\n",
       "      <td>0.0</td>\n",
       "    </tr>\n",
       "    <tr>\n",
       "      <th>2</th>\n",
       "      <td>0.0</td>\n",
       "      <td>4811.39600</td>\n",
       "      <td>2309.01709</td>\n",
       "      <td>4087.53223</td>\n",
       "      <td>0.0</td>\n",
       "      <td>5035.70654</td>\n",
       "      <td>6315.00977</td>\n",
       "      <td>5001.66748</td>\n",
       "      <td>0.0</td>\n",
       "      <td>0.0</td>\n",
       "      <td>...</td>\n",
       "      <td>3479.72388</td>\n",
       "      <td>0.0</td>\n",
       "      <td>0.0</td>\n",
       "      <td>0.0</td>\n",
       "      <td>0.0</td>\n",
       "      <td>4452.56641</td>\n",
       "      <td>0.0</td>\n",
       "      <td>5834.60645</td>\n",
       "      <td>5091.24316</td>\n",
       "      <td>0.0</td>\n",
       "    </tr>\n",
       "    <tr>\n",
       "      <th>3</th>\n",
       "      <td>0.0</td>\n",
       "      <td>4507.62842</td>\n",
       "      <td>2074.94629</td>\n",
       "      <td>3750.32056</td>\n",
       "      <td>0.0</td>\n",
       "      <td>4704.63867</td>\n",
       "      <td>5941.25586</td>\n",
       "      <td>4621.97656</td>\n",
       "      <td>0.0</td>\n",
       "      <td>0.0</td>\n",
       "      <td>...</td>\n",
       "      <td>3328.27295</td>\n",
       "      <td>0.0</td>\n",
       "      <td>0.0</td>\n",
       "      <td>0.0</td>\n",
       "      <td>0.0</td>\n",
       "      <td>4115.44922</td>\n",
       "      <td>0.0</td>\n",
       "      <td>5367.67139</td>\n",
       "      <td>4688.30273</td>\n",
       "      <td>0.0</td>\n",
       "    </tr>\n",
       "    <tr>\n",
       "      <th>4</th>\n",
       "      <td>0.0</td>\n",
       "      <td>3785.34399</td>\n",
       "      <td>1756.06714</td>\n",
       "      <td>3171.94019</td>\n",
       "      <td>0.0</td>\n",
       "      <td>3948.11133</td>\n",
       "      <td>4985.46045</td>\n",
       "      <td>3906.12256</td>\n",
       "      <td>0.0</td>\n",
       "      <td>0.0</td>\n",
       "      <td>...</td>\n",
       "      <td>2784.45337</td>\n",
       "      <td>0.0</td>\n",
       "      <td>0.0</td>\n",
       "      <td>0.0</td>\n",
       "      <td>0.0</td>\n",
       "      <td>3464.22168</td>\n",
       "      <td>0.0</td>\n",
       "      <td>4522.16260</td>\n",
       "      <td>3963.88428</td>\n",
       "      <td>0.0</td>\n",
       "    </tr>\n",
       "  </tbody>\n",
       "</table>\n",
       "<p>5 rows × 513 columns</p>\n",
       "</div>"
      ],
      "text/plain": [
       "   0           1           2           3    4           5           6    \\\n",
       "0  0.0  3285.80396  1510.82166  2731.94043  0.0  3424.64282  4330.51367   \n",
       "1  1.0  3043.73804  1565.28137  2659.80981  0.0  3219.83789  4012.70532   \n",
       "2  0.0  4811.39600  2309.01709  4087.53223  0.0  5035.70654  6315.00977   \n",
       "3  0.0  4507.62842  2074.94629  3750.32056  0.0  4704.63867  5941.25586   \n",
       "4  0.0  3785.34399  1756.06714  3171.94019  0.0  3948.11133  4985.46045   \n",
       "\n",
       "          7    8    9    ...         503  504  505  506  507         508  509  \\\n",
       "0  3367.21899  0.0  0.0  ...  2432.82520  0.0  0.0  0.0  0.0  2994.42871  0.0   \n",
       "1  3161.57178  0.0  0.0  ...  2124.04150  0.0  0.0  0.0  0.0  2892.67065  0.0   \n",
       "2  5001.66748  0.0  0.0  ...  3479.72388  0.0  0.0  0.0  0.0  4452.56641  0.0   \n",
       "3  4621.97656  0.0  0.0  ...  3328.27295  0.0  0.0  0.0  0.0  4115.44922  0.0   \n",
       "4  3906.12256  0.0  0.0  ...  2784.45337  0.0  0.0  0.0  0.0  3464.22168  0.0   \n",
       "\n",
       "          510         511  512  \n",
       "0  3900.63892  3414.04224  0.0  \n",
       "1  3768.45215  3265.97778  0.0  \n",
       "2  5834.60645  5091.24316  0.0  \n",
       "3  5367.67139  4688.30273  0.0  \n",
       "4  4522.16260  3963.88428  0.0  \n",
       "\n",
       "[5 rows x 513 columns]"
      ]
     },
     "execution_count": 8,
     "metadata": {},
     "output_type": "execute_result"
    }
   ],
   "source": [
    "df_train.head()"
   ]
  },
  {
   "cell_type": "code",
   "execution_count": null,
   "metadata": {},
   "outputs": [],
   "source": [
    "df_train[0].describe()"
   ]
  },
  {
   "cell_type": "code",
   "execution_count": null,
   "metadata": {},
   "outputs": [],
   "source": [
    "sns.distplot(df_train[0], kde=False, rug=True, bins=3);"
   ]
  },
  {
   "cell_type": "markdown",
   "metadata": {},
   "source": [
    "### SciKit-Learn Baseline\n",
    "\n",
    "#### SVM with Parameter Tuning"
   ]
  },
  {
   "cell_type": "code",
   "execution_count": 10,
   "metadata": {},
   "outputs": [
    {
     "name": "stdout",
     "output_type": "stream",
     "text": [
      "Fitting 5 folds for each of 50 candidates, totalling 250 fits\n"
     ]
    },
    {
     "name": "stderr",
     "output_type": "stream",
     "text": [
      "[Parallel(n_jobs=1)]: Using backend SequentialBackend with 1 concurrent workers.\n",
      "[Parallel(n_jobs=1)]: Done 250 out of 250 | elapsed:   55.0s finished\n"
     ]
    },
    {
     "data": {
      "text/plain": [
       "{'Accuracy': 0.8208333333333333,\n",
       " 'Precession': 0.8980582524271845,\n",
       " 'Recall': 0.74,\n",
       " 'F1-Score': 0.8114035087719298}"
      ]
     },
     "execution_count": 10,
     "metadata": {},
     "output_type": "execute_result"
    }
   ],
   "source": [
    "# Prepare Dataset\n",
    "X = df_train.iloc[:, 1:]\n",
    "y = df_train.iloc[:, :1]\n",
    "X_train, X_test, y_train, y_test = train_test_split(X, y, test_size=0.3)\n",
    "\n",
    "# Construct Classifier\n",
    "standard_scaler = StandardScaler().fit(X_train)\n",
    "maxabs_scaler = MaxAbsScaler().fit(X_train)\n",
    "classifier = SVC()\n",
    "pipe = Pipeline([('StandardScaler', standard_scaler), ('MaxAbsScaler', maxabs_scaler), ('SVC', classifier)])\n",
    "    \n",
    "# Parameter Tuning\n",
    "params = {\n",
    "    'SVC__C': scipy.stats.expon(scale=100), \n",
    "    'SVC__gamma': scipy.stats.expon(scale=.1),\n",
    "    'SVC__kernel': ['rbf', 'sigmoid'], \n",
    "    'SVC__class_weight': ['balanced', None]\n",
    "}\n",
    "tuned_pipe = RandomizedSearchCV(pipe, params, random_state=42, n_iter=50, verbose=1)\n",
    "\n",
    "# Fit & Calculate Metrics\n",
    "trained_classifier = tuned_pipe.fit(X_train, y_train.values.ravel())\n",
    "metrics = calculate_metrics(trained_classifier, X_test, y_test)\n",
    "metrics"
   ]
  },
  {
   "cell_type": "markdown",
   "metadata": {},
   "source": [
    "#### Trees with Parameter Tuning"
   ]
  },
  {
   "cell_type": "code",
   "execution_count": 11,
   "metadata": {},
   "outputs": [
    {
     "name": "stdout",
     "output_type": "stream",
     "text": [
      "Fitting 5 folds for each of 5 candidates, totalling 25 fits\n"
     ]
    },
    {
     "name": "stderr",
     "output_type": "stream",
     "text": [
      "[Parallel(n_jobs=1)]: Using backend SequentialBackend with 1 concurrent workers.\n",
      "[Parallel(n_jobs=1)]: Done  25 out of  25 | elapsed:    1.7s finished\n"
     ]
    },
    {
     "data": {
      "text/plain": [
       "{'Accuracy': 0.7604166666666666,\n",
       " 'Precession': 0.7424242424242424,\n",
       " 'Recall': 0.8065843621399177,\n",
       " 'F1-Score': 0.7731755424063116}"
      ]
     },
     "execution_count": 11,
     "metadata": {},
     "output_type": "execute_result"
    }
   ],
   "source": [
    "# Prepare Dataset\n",
    "X = df_train.iloc[:, 1:]\n",
    "y = df_train.iloc[:, :1]\n",
    "X_train, X_test, y_train, y_test = train_test_split(X, y, test_size=0.3)\n",
    "\n",
    "# Construct Classifier\n",
    "standard_scaler = StandardScaler().fit(X_train)\n",
    "maxabs_scaler = MaxAbsScaler().fit(X_train)\n",
    "classifier = DecisionTreeClassifier()\n",
    "pipe = Pipeline([('StandardScaler', standard_scaler), ('MaxAbsScaler', maxabs_scaler), ('Tree', classifier)])\n",
    "    \n",
    "# Parameter Tuning\n",
    "params = {\n",
    "    'Tree__min_weight_fraction_leaf': scipy.stats.expon(scale=.1)\n",
    "}\n",
    "tuned_pipe = RandomizedSearchCV(pipe, params, random_state=42, n_iter=5, verbose=1)\n",
    "\n",
    "# Fit & Calculate Metrics\n",
    "trained_classifier = tuned_pipe.fit(X_train, y_train.values.ravel())\n",
    "metrics = calculate_metrics(trained_classifier, X_test, y_test)\n",
    "metrics"
   ]
  },
  {
   "cell_type": "markdown",
   "metadata": {},
   "source": [
    "#### RandomForest with Parameter Tuning\n",
    "\n",
    "* Funktioniert besser ohne Scaler"
   ]
  },
  {
   "cell_type": "code",
   "execution_count": 9,
   "metadata": {},
   "outputs": [
    {
     "name": "stdout",
     "output_type": "stream",
     "text": [
      "Fitting 5 folds for each of 5 candidates, totalling 25 fits\n",
      "[CV] Tree__max_features=512, Tree__min_weight_fraction_leaf=0.04692680899768591 \n"
     ]
    },
    {
     "name": "stderr",
     "output_type": "stream",
     "text": [
      "[Parallel(n_jobs=1)]: Using backend SequentialBackend with 1 concurrent workers.\n"
     ]
    },
    {
     "name": "stdout",
     "output_type": "stream",
     "text": [
      "[CV]  Tree__max_features=512, Tree__min_weight_fraction_leaf=0.04692680899768591, score=0.804, total=   3.5s\n",
      "[CV] Tree__max_features=512, Tree__min_weight_fraction_leaf=0.04692680899768591 \n"
     ]
    },
    {
     "name": "stderr",
     "output_type": "stream",
     "text": [
      "[Parallel(n_jobs=1)]: Done   1 out of   1 | elapsed:    3.5s remaining:    0.0s\n"
     ]
    },
    {
     "name": "stdout",
     "output_type": "stream",
     "text": [
      "[CV]  Tree__max_features=512, Tree__min_weight_fraction_leaf=0.04692680899768591, score=0.835, total=   3.6s\n",
      "[CV] Tree__max_features=512, Tree__min_weight_fraction_leaf=0.04692680899768591 \n"
     ]
    },
    {
     "name": "stderr",
     "output_type": "stream",
     "text": [
      "[Parallel(n_jobs=1)]: Done   2 out of   2 | elapsed:    7.2s remaining:    0.0s\n"
     ]
    },
    {
     "name": "stdout",
     "output_type": "stream",
     "text": [
      "[CV]  Tree__max_features=512, Tree__min_weight_fraction_leaf=0.04692680899768591, score=0.790, total=   3.5s\n",
      "[CV] Tree__max_features=512, Tree__min_weight_fraction_leaf=0.04692680899768591 \n",
      "[CV]  Tree__max_features=512, Tree__min_weight_fraction_leaf=0.04692680899768591, score=0.759, total=   3.5s\n",
      "[CV] Tree__max_features=512, Tree__min_weight_fraction_leaf=0.04692680899768591 \n",
      "[CV]  Tree__max_features=512, Tree__min_weight_fraction_leaf=0.04692680899768591, score=0.812, total=   3.6s\n",
      "[CV] Tree__max_features=512, Tree__min_weight_fraction_leaf=0.3010121430917521 \n",
      "[CV]  Tree__max_features=512, Tree__min_weight_fraction_leaf=0.3010121430917521, score=0.826, total=   1.2s\n",
      "[CV] Tree__max_features=512, Tree__min_weight_fraction_leaf=0.3010121430917521 \n",
      "[CV]  Tree__max_features=512, Tree__min_weight_fraction_leaf=0.3010121430917521, score=0.830, total=   1.2s\n",
      "[CV] Tree__max_features=512, Tree__min_weight_fraction_leaf=0.3010121430917521 \n",
      "[CV]  Tree__max_features=512, Tree__min_weight_fraction_leaf=0.3010121430917521, score=0.781, total=   1.2s\n",
      "[CV] Tree__max_features=512, Tree__min_weight_fraction_leaf=0.3010121430917521 \n",
      "[CV]  Tree__max_features=512, Tree__min_weight_fraction_leaf=0.3010121430917521, score=0.754, total=   1.3s\n",
      "[CV] Tree__max_features=512, Tree__min_weight_fraction_leaf=0.3010121430917521 \n",
      "[CV]  Tree__max_features=512, Tree__min_weight_fraction_leaf=0.3010121430917521, score=0.817, total=   1.2s\n",
      "[CV] Tree__max_features=512, Tree__min_weight_fraction_leaf=0.13167456935454494 \n",
      "[CV]  Tree__max_features=512, Tree__min_weight_fraction_leaf=0.13167456935454494, score=0.804, total=   2.3s\n",
      "[CV] Tree__max_features=512, Tree__min_weight_fraction_leaf=0.13167456935454494 \n",
      "[CV]  Tree__max_features=512, Tree__min_weight_fraction_leaf=0.13167456935454494, score=0.839, total=   2.3s\n",
      "[CV] Tree__max_features=512, Tree__min_weight_fraction_leaf=0.13167456935454494 \n",
      "[CV]  Tree__max_features=512, Tree__min_weight_fraction_leaf=0.13167456935454494, score=0.786, total=   2.3s\n",
      "[CV] Tree__max_features=512, Tree__min_weight_fraction_leaf=0.13167456935454494 \n",
      "[CV]  Tree__max_features=512, Tree__min_weight_fraction_leaf=0.13167456935454494, score=0.754, total=   2.3s\n",
      "[CV] Tree__max_features=512, Tree__min_weight_fraction_leaf=0.13167456935454494 \n",
      "[CV]  Tree__max_features=512, Tree__min_weight_fraction_leaf=0.13167456935454494, score=0.812, total=   2.3s\n",
      "[CV] Tree__max_features=512, Tree__min_weight_fraction_leaf=0.09129425537759533 \n",
      "[CV]  Tree__max_features=512, Tree__min_weight_fraction_leaf=0.09129425537759533, score=0.817, total=   2.8s\n",
      "[CV] Tree__max_features=512, Tree__min_weight_fraction_leaf=0.09129425537759533 \n",
      "[CV]  Tree__max_features=512, Tree__min_weight_fraction_leaf=0.09129425537759533, score=0.830, total=   2.6s\n",
      "[CV] Tree__max_features=512, Tree__min_weight_fraction_leaf=0.09129425537759533 \n",
      "[CV]  Tree__max_features=512, Tree__min_weight_fraction_leaf=0.09129425537759533, score=0.781, total=   2.8s\n",
      "[CV] Tree__max_features=512, Tree__min_weight_fraction_leaf=0.09129425537759533 \n",
      "[CV]  Tree__max_features=512, Tree__min_weight_fraction_leaf=0.09129425537759533, score=0.754, total=   2.9s\n",
      "[CV] Tree__max_features=512, Tree__min_weight_fraction_leaf=0.09129425537759533 \n",
      "[CV]  Tree__max_features=512, Tree__min_weight_fraction_leaf=0.09129425537759533, score=0.817, total=   2.8s\n",
      "[CV] Tree__max_features=512, Tree__min_weight_fraction_leaf=0.01696248704623463 \n",
      "[CV]  Tree__max_features=512, Tree__min_weight_fraction_leaf=0.01696248704623463, score=0.808, total=   4.9s\n",
      "[CV] Tree__max_features=512, Tree__min_weight_fraction_leaf=0.01696248704623463 \n",
      "[CV]  Tree__max_features=512, Tree__min_weight_fraction_leaf=0.01696248704623463, score=0.857, total=   4.7s\n",
      "[CV] Tree__max_features=512, Tree__min_weight_fraction_leaf=0.01696248704623463 \n",
      "[CV]  Tree__max_features=512, Tree__min_weight_fraction_leaf=0.01696248704623463, score=0.790, total=   4.9s\n",
      "[CV] Tree__max_features=512, Tree__min_weight_fraction_leaf=0.01696248704623463 \n",
      "[CV]  Tree__max_features=512, Tree__min_weight_fraction_leaf=0.01696248704623463, score=0.763, total=   4.7s\n",
      "[CV] Tree__max_features=512, Tree__min_weight_fraction_leaf=0.01696248704623463 \n",
      "[CV]  Tree__max_features=512, Tree__min_weight_fraction_leaf=0.01696248704623463, score=0.804, total=   4.9s\n"
     ]
    },
    {
     "name": "stderr",
     "output_type": "stream",
     "text": [
      "[Parallel(n_jobs=1)]: Done  25 out of  25 | elapsed:  1.2min finished\n"
     ]
    },
    {
     "data": {
      "text/plain": [
       "{'Accuracy': 0.8145833333333333,\n",
       " 'Precession': 0.8695652173913043,\n",
       " 'Recall': 0.743801652892562,\n",
       " 'F1-Score': 0.8017817371937639}"
      ]
     },
     "execution_count": 9,
     "metadata": {},
     "output_type": "execute_result"
    }
   ],
   "source": [
    "# Prepare Dataset\n",
    "X = df_train.iloc[:, 1:]\n",
    "y = df_train.iloc[:, :1]\n",
    "X_train, X_test, y_train, y_test = train_test_split(X, y, test_size=0.3)\n",
    "\n",
    "# Construct Classifier\n",
    "standard_scaler = StandardScaler().fit(X_train)\n",
    "maxabs_scaler = MaxAbsScaler().fit(X_train)\n",
    "classifier = RandomForestClassifier()\n",
    "pipe = Pipeline([('Tree', classifier)])\n",
    "    \n",
    "# Parameter Tuning\n",
    "params = {\n",
    "    'Tree__min_weight_fraction_leaf': scipy.stats.expon(scale=.1),\n",
    "    'Tree__max_features': [512]\n",
    "}\n",
    "tuned_pipe = RandomizedSearchCV(pipe, params, random_state=42, n_iter=5, verbose=3)\n",
    "\n",
    "# Fit & Calculate Metrics\n",
    "trained_classifier = tuned_pipe.fit(X_train, y_train.values.ravel())\n",
    "metrics = calculate_metrics(trained_classifier, X_test, y_test)\n",
    "metrics"
   ]
  },
  {
   "cell_type": "code",
   "execution_count": null,
   "metadata": {},
   "outputs": [],
   "source": [
    "RandomForestClassifier?"
   ]
  },
  {
   "cell_type": "markdown",
   "metadata": {},
   "source": [
    "### Keras Baseline"
   ]
  },
  {
   "cell_type": "code",
   "execution_count": null,
   "metadata": {},
   "outputs": [],
   "source": [
    "model = Sequential()\n",
    "model.add(Dense(units=112, activation='relu', input_dim=512))\n",
    "model.add(Dense(units=1, activation='sigmoid'))\n",
    "model.compile(loss='binary_crossentropy', optimizer='SGD', metrics=['accuracy'])\n",
    "\n",
    "keras_pipe = Pipeline([\n",
    "    ('StandardScaler', standard_scaler), \n",
    "    ('MaxAbsScaler', maxabs_scaler), \n",
    "    ('Model', model)])\n",
    "keras_pipe = keras_pipe.fit(X_train, y_train, Model__epochs=1000, Model__batch_size=100)\n",
    "metrics = calculate_metrics(keras_pipe, X_test, y_test)"
   ]
  },
  {
   "cell_type": "code",
   "execution_count": null,
   "metadata": {},
   "outputs": [],
   "source": [
    "metrics"
   ]
  },
  {
   "cell_type": "code",
   "execution_count": null,
   "metadata": {},
   "outputs": [],
   "source": [
    "import pydot\n",
    "from IPython.display import SVG\n",
    "from keras.utils.vis_utils import model_to_dot\n",
    "\n",
    "SVG(model_to_dot(model).create(prog='dot', format='svg'))"
   ]
  },
  {
   "cell_type": "markdown",
   "metadata": {},
   "source": [
    "## Links\n",
    "\n",
    "* https://machinelearningmastery.com/binary-classification-tutorial-with-the-keras-deep-learning-library/"
   ]
  },
  {
   "cell_type": "code",
   "execution_count": null,
   "metadata": {},
   "outputs": [],
   "source": [
    "np.rint(pipe.predict(X_test))"
   ]
  },
  {
   "cell_type": "code",
   "execution_count": null,
   "metadata": {},
   "outputs": [],
   "source": [
    "sns.distplot(pipe.predict(X_test));"
   ]
  },
  {
   "cell_type": "code",
   "execution_count": null,
   "metadata": {},
   "outputs": [],
   "source": [
    "sns.distplot(keras_pipe.predict(X_test));"
   ]
  },
  {
   "cell_type": "code",
   "execution_count": null,
   "metadata": {},
   "outputs": [],
   "source": [
    "X_test.shape"
   ]
  },
  {
   "cell_type": "code",
   "execution_count": null,
   "metadata": {},
   "outputs": [],
   "source": [
    "foo = { \"hello\": \"world\" }"
   ]
  },
  {
   "cell_type": "code",
   "execution_count": null,
   "metadata": {},
   "outputs": [],
   "source": [
    "foo"
   ]
  },
  {
   "cell_type": "code",
   "execution_count": null,
   "metadata": {},
   "outputs": [],
   "source": [
    "scipy.stats.expon(scale=100).rvs(size=10)"
   ]
  },
  {
   "cell_type": "code",
   "execution_count": null,
   "metadata": {},
   "outputs": [],
   "source": [
    "RandomizedSearchCV?"
   ]
  },
  {
   "cell_type": "code",
   "execution_count": null,
   "metadata": {},
   "outputs": [],
   "source": []
  }
 ],
 "metadata": {
  "kernelspec": {
   "display_name": "Python 3",
   "language": "python",
   "name": "python3"
  },
  "language_info": {
   "codemirror_mode": {
    "name": "ipython",
    "version": 3
   },
   "file_extension": ".py",
   "mimetype": "text/x-python",
   "name": "python",
   "nbconvert_exporter": "python",
   "pygments_lexer": "ipython3",
   "version": "3.7.6"
  }
 },
 "nbformat": 4,
 "nbformat_minor": 2
}
